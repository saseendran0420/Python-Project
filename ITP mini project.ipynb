{
 "cells": [
  {
   "cell_type": "code",
   "execution_count": 31,
   "metadata": {},
   "outputs": [
    {
     "name": "stdout",
     "output_type": "stream",
     "text": [
      "{101: {'Sender': 'Phillip', 'Receiver': 'Ramya', 'Start date': '14-03-2020', 'Delivery date': '25-03-2020', 'Sender location': 'Area 1', 'Receiver location': 'Area 6', 'Delivery status': 'Delivered', 'Shipping cost': 198}, 102: {'Sender': 'Romesh', 'Receiver': 'Phillip', 'Start date': '18-06-2020', 'Delivery date': '09-07-2020', 'Sender location': 'Area 2', 'Receiver location': 'Area 4', 'Delivery status': 'Delivered', 'Shipping cost': 275}, 103: {'Sender': 'Omega lll', 'Receiver': 'Ramya', 'Start date': '01-12-2020', 'Delivery date': 'Null', 'Sender location': 'Area 5', 'Receiver location': 'Area 1', 'Delivery status': 'In Transit', 'Shipping cost': 200}, 104: {'Sender': 'Phillip', 'Receiver': 'John', 'Start date': '23-06-2020', 'Delivery date': '25-06-2020', 'Sender location': 'Area 1', 'Receiver location': 'Area 4', 'Delivery status': 'Delivered', 'Shipping cost': 314}, 105: {'Sender': 'Ramya', 'Receiver': 'Romesh', 'Start date': '29-08-2020', 'Delivery date': '10-09-2020', 'Sender location': 'Area 5', 'Receiver location': 'Area 3', 'Delivery status': 'Delivered', 'Shipping cost': 275}, 106: {'Sender': 'John', 'Receiver': 'Omega lll', 'Start date': '28-06-2020', 'Delivery date': 'Null', 'Sender location': 'Area 3', 'Receiver location': 'Area 1', 'Delivery status': 'In Transit', 'Shipping cost': 270}}\n"
     ]
    }
   ],
   "source": [
    "#Dictionary of lists to store the information of shipments given in the table\n",
    "\n",
    "#Dictionary of to store the information of clients given in the table.\n",
    "\n",
    "#replace client’s id with their respective name in shipment dictionary using a loop and dictionary comprehension\n",
    "\n",
    "\n",
    "Shipment={101:{'Sender':1,'Receiver':3,'Start date':'14-03-2020','Delivery date':'25-03-2020','Sender location':'Area 1','Receiver location':'Area 6','Delivery status':'Delivered','Shipping cost':198}, 102:{'Sender':4,'Receiver':1,'Start date':'18-06-2020','Delivery date':'09-07-2020','Sender location':'Area 2','Receiver location':'Area 4','Delivery status':'Delivered','Shipping cost':275}, 103:{'Sender':2,'Receiver':3,'Start date':'01-12-2020','Delivery date':'Null','Sender location':'Area 5','Receiver location':'Area 1','Delivery status':'In Transit','Shipping cost':200}, 104:{'Sender':1,'Receiver':5,'Start date':'23-06-2020','Delivery date':'25-06-2020','Sender location':'Area 1','Receiver location':'Area 4','Delivery status':'Delivered','Shipping cost':314}, 105:{'Sender':3,'Receiver':4,'Start date':'29-08-2020','Delivery date':'10-09-2020','Sender location':'Area 5','Receiver location':'Area 3','Delivery status':'Delivered','Shipping cost':275}, 106:{'Sender':5,'Receiver':2,'Start date':'28-06-2020','Delivery date':'Null','Sender location':'Area 3','Receiver location':'Area 1','Delivery status':'In Transit','Shipping cost':270}}\n",
    "\n",
    "\n",
    "Clients= {1:'Phillip',2:'Omega lll',3 :'Ramya',4:'Romesh',5:'John'}\n",
    "\n",
    "result = {}\n",
    "\n",
    "for key, value in Shipment.items():\n",
    "    new_value = {k: Clients[v] if k in ('Sender', 'Receiver') else v for k,v in value.items()}\n",
    "    result[key] = new_value \n",
    "  \n",
    "print(result)\n"
   ]
  },
  {
   "cell_type": "code",
   "execution_count": 3,
   "metadata": {},
   "outputs": [
    {
     "name": "stdout",
     "output_type": "stream",
     "text": [
      "{'Sender': 'Phillip', 'Receiver': 'Ramya', 'Start date': '14-03-2020', 'Delivery date': '25-03-2020', 'Sender location': 'Area 1', 'Receiver location': 'Area 6', 'Delivery status': 'Delivered', 'Shipping cost': 198}\n",
      "{'Sender': 'Phillip', 'Receiver': 'John', 'Start date': '23-06-2020', 'Delivery date': '25-06-2020', 'Sender location': 'Area 1', 'Receiver location': 'Area 4', 'Delivery status': 'Delivered', 'Shipping cost': 314}\n"
     ]
    }
   ],
   "source": [
    "#shipment details that are sent by Phillip\n",
    "\n",
    "for key,values in result.items(): \n",
    "        if values['Sender'] == 'Phillip':\n",
    "            print(values)\n",
    "        else:\n",
    "            None\n",
    "        "
   ]
  },
  {
   "cell_type": "code",
   "execution_count": 4,
   "metadata": {},
   "outputs": [
    {
     "name": "stdout",
     "output_type": "stream",
     "text": [
      "{'Sender': 'Phillip', 'Receiver': 'Ramya', 'Start date': '14-03-2020', 'Delivery date': '25-03-2020', 'Sender location': 'Area 1', 'Receiver location': 'Area 6', 'Delivery status': 'Delivered', 'Shipping cost': 198}\n",
      "{'Sender': 'Omega lll', 'Receiver': 'Ramya', 'Start date': '01-12-2020', 'Delivery date': 'Null', 'Sender location': 'Area 5', 'Receiver location': 'Area 1', 'Delivery status': 'In Transit', 'Shipping cost': 200}\n"
     ]
    }
   ],
   "source": [
    "#shipment details that are received by Ramya\n",
    "\n",
    "for key,values in result.items():\n",
    "        if values['Receiver'] == 'Ramya':\n",
    "            print(values)\n",
    "        else:\n",
    "            None\n",
    "       \n",
    "            "
   ]
  },
  {
   "cell_type": "code",
   "execution_count": 5,
   "metadata": {},
   "outputs": [
    {
     "name": "stdout",
     "output_type": "stream",
     "text": [
      "{'Sender': 'Omega lll', 'Receiver': 'Ramya', 'Start date': '01-12-2020', 'Delivery date': 'Null', 'Sender location': 'Area 5', 'Receiver location': 'Area 1', 'Delivery status': 'In Transit', 'Shipping cost': 200}\n",
      "{'Sender': 'John', 'Receiver': 'Omega lll', 'Start date': '28-06-2020', 'Delivery date': 'Null', 'Sender location': 'Area 3', 'Receiver location': 'Area 1', 'Delivery status': 'In Transit', 'Shipping cost': 270}\n"
     ]
    }
   ],
   "source": [
    "#all shipments which are in 'In-Transit' status\n",
    "\n",
    "for key,values in result.items():\n",
    "    if values['Delivery status'] == 'In Transit':\n",
    "        print(values)\n",
    "    else:\n",
    "        None"
   ]
  },
  {
   "cell_type": "code",
   "execution_count": 6,
   "metadata": {},
   "outputs": [],
   "source": [
    "from datetime import datetime"
   ]
  },
  {
   "cell_type": "code",
   "execution_count": 7,
   "metadata": {},
   "outputs": [
    {
     "name": "stdout",
     "output_type": "stream",
     "text": [
      "{'Sender': 'Phillip', 'Receiver': 'John', 'Start date': '23-06-2020', 'Delivery date': '25-06-2020', 'Sender location': 'Area 1', 'Receiver location': 'Area 4', 'Delivery status': 'Delivered', 'Shipping cost': 314}\n"
     ]
    }
   ],
   "source": [
    "#all shipments which are delivered within 7 days of courier Start date\n",
    "\n",
    "\n",
    "for key,values in result.items():\n",
    "    sd = values['Start date']\n",
    "    ed = values['Delivery date']\n",
    "    if ed == 'Null':\n",
    "        continue\n",
    "    else:\n",
    "        date_format = \"%d-%m-%Y\"\n",
    "        a = datetime.strptime(sd, date_format)\n",
    "        b = datetime.strptime(ed, date_format)\n",
    "        res = b - a\n",
    "        if res.days <= 7:\n",
    "            print(values)\n",
    "        else:\n",
    "            None\n"
   ]
  },
  {
   "cell_type": "code",
   "execution_count": 32,
   "metadata": {},
   "outputs": [
    {
     "name": "stdout",
     "output_type": "stream",
     "text": [
      "{'Sender': 'Romesh', 'Receiver': 'Phillip', 'Start date': '18-06-2020', 'Delivery date': '09-07-2020', 'Sender location': 'Area 2', 'Receiver location': 'Area 4', 'Delivery status': 'Delivered', 'Shipping cost': 275}\n",
      "{'Sender': 'Omega lll', 'Receiver': 'Ramya', 'Start date': '01-12-2020', 'Delivery date': 'Null', 'Sender location': 'Area 5', 'Receiver location': 'Area 1', 'Delivery status': 'In Transit', 'Shipping cost': 200}\n",
      "{'Sender': 'John', 'Receiver': 'Omega lll', 'Start date': '28-06-2020', 'Delivery date': 'Null', 'Sender location': 'Area 3', 'Receiver location': 'Area 1', 'Delivery status': 'In Transit', 'Shipping cost': 270}\n"
     ]
    }
   ],
   "source": [
    "#all shipments which are delivered after 15 days of courier start date or not yet been delivered.\n",
    "\n",
    "\n",
    "for key,values in result.items():\n",
    "    sd = values['Start date']\n",
    "    ed = values['Delivery date']\n",
    "    if values['Delivery status'] == 'In Transit':\n",
    "        print(values)\n",
    "    \n",
    "    elif ed == 'Null':\n",
    "        continue\n",
    "    else:\n",
    "        date_format = \"%d-%m-%Y\"\n",
    "        a = datetime.strptime(sd, date_format)\n",
    "        b = datetime.strptime(ed, date_format)\n",
    "        res = b - a\n",
    "        if res.days > 15:\n",
    "            print(values)\n",
    "        else:\n",
    "            None"
   ]
  },
  {
   "cell_type": "code",
   "execution_count": null,
   "metadata": {},
   "outputs": [],
   "source": []
  },
  {
   "cell_type": "code",
   "execution_count": 118,
   "metadata": {},
   "outputs": [
    {
     "name": "stdout",
     "output_type": "stream",
     "text": [
      "0 0 1 1 1 1 \n",
      "0 0 0 1 0 0 \n",
      "1 0 0 0 1 0 \n",
      "1 1 0 0 0 0 \n",
      "1 0 1 0 0 0 \n",
      "1 0 0 0 0 0 \n"
     ]
    }
   ],
   "source": [
    "#Create matrix for the network shown above and using this matrix find all possible routes from A to B.\n",
    "def find_routes():\n",
    "    d = {1:[3,6,4,5],2:[4],3:[5,1],4:[2,1],5:[3,1],6:[1]}\n",
    "    \n",
    "    for i in range(1,7):\n",
    "        for j in range(1,7):\n",
    "           \n",
    "            if j in d[i]:\n",
    "                print(1,end = \" \")\n",
    "            else:\n",
    "                print(0,end = \" \")    \n",
    "        print() \n",
    "       \n",
    "find_routes()"
   ]
  },
  {
   "cell_type": "code",
   "execution_count": null,
   "metadata": {},
   "outputs": [],
   "source": [
    "\n"
   ]
  },
  {
   "cell_type": "code",
   "execution_count": 127,
   "metadata": {},
   "outputs": [
    {
     "data": {
      "text/plain": [
       "2"
      ]
     },
     "execution_count": 127,
     "metadata": {},
     "output_type": "execute_result"
    }
   ],
   "source": []
  },
  {
   "cell_type": "code",
   "execution_count": null,
   "metadata": {},
   "outputs": [],
   "source": []
  }
 ],
 "metadata": {
  "kernelspec": {
   "display_name": "Python 3",
   "language": "python",
   "name": "python3"
  },
  "language_info": {
   "codemirror_mode": {
    "name": "ipython",
    "version": 3
   },
   "file_extension": ".py",
   "mimetype": "text/x-python",
   "name": "python",
   "nbconvert_exporter": "python",
   "pygments_lexer": "ipython3",
   "version": "3.8.5"
  }
 },
 "nbformat": 4,
 "nbformat_minor": 4
}
